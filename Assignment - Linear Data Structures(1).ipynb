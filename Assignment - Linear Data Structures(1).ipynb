{
 "cells": [
  {
   "cell_type": "markdown",
   "id": "579b90ab",
   "metadata": {},
   "source": [
    "Q1. Write a program to find all pairs of an integer array whose sum is equal to a given number?"
   ]
  },
  {
   "cell_type": "code",
   "execution_count": 1,
   "id": "7bb2fc8f",
   "metadata": {},
   "outputs": [
    {
     "name": "stdout",
     "output_type": "stream",
     "text": [
      "Array is:  [5, 3, 4, 4, 2, 6]\n",
      "Pairs whose sum is:  8\n",
      "5 3\n",
      "4 4\n",
      "4 4\n",
      "4 4\n",
      "2 6\n"
     ]
    }
   ],
   "source": [
    "def find(array, len, summ):\n",
    "    print(\"Pairs whose sum is: \", summ)\n",
    "    for i in range(len):\n",
    "        for j in range(i, len):\n",
    "            if (array[i] + array[j]) == summ:\n",
    "                print(array[i], array[j])\n",
    "                \n",
    "array = [5,3,4,4,2,6]\n",
    "print(\"Array is: \", array)\n",
    "summ = 8\n",
    "find(array, len(array), summ)"
   ]
  },
  {
   "cell_type": "code",
   "execution_count": null,
   "id": "8fed5644",
   "metadata": {},
   "outputs": [],
   "source": []
  },
  {
   "cell_type": "markdown",
   "id": "ff4add90",
   "metadata": {},
   "source": [
    "Q2. Write a program to reverse an array in place? In place means you cannot create a new array. you have to update the original array."
   ]
  },
  {
   "cell_type": "code",
   "execution_count": 2,
   "id": "3feb9282",
   "metadata": {},
   "outputs": [
    {
     "data": {
      "text/plain": [
       "[6, 5, 4, 3, 2, 1]"
      ]
     },
     "execution_count": 2,
     "metadata": {},
     "output_type": "execute_result"
    }
   ],
   "source": [
    "a = [1, 2, 3, 4, 5, 6]\n",
    "a[::-1]"
   ]
  },
  {
   "cell_type": "code",
   "execution_count": 3,
   "id": "91a6242e",
   "metadata": {},
   "outputs": [
    {
     "name": "stdout",
     "output_type": "stream",
     "text": [
      "Original Array is:  [1, 2, 3, 4, 5, 6]\n",
      "Reversed Array is:  [6, 5, 4, 3, 2, 1]\n"
     ]
    }
   ],
   "source": [
    "def reverseArray(a, start, end):\n",
    "    while start < end:\n",
    "        a[start], a[end] =  a[end], a[start]\n",
    "        start += 1\n",
    "        end -= 1\n",
    "        \n",
    "a =  [1, 2, 3, 4, 5, 6]\n",
    "print(\"Original Array is: \", a)\n",
    "\n",
    "reverseArray(a, 0, 5)\n",
    "print(\"Reversed Array is: \", a)"
   ]
  },
  {
   "cell_type": "code",
   "execution_count": null,
   "id": "5c6e9033",
   "metadata": {},
   "outputs": [],
   "source": []
  },
  {
   "cell_type": "markdown",
   "id": "cc02107b",
   "metadata": {},
   "source": [
    "Q3. Write a program to check if two strings are a rotation of each other?"
   ]
  },
  {
   "cell_type": "code",
   "execution_count": 4,
   "id": "64e2da98",
   "metadata": {},
   "outputs": [
    {
     "data": {
      "text/plain": [
       "True"
      ]
     },
     "execution_count": 4,
     "metadata": {},
     "output_type": "execute_result"
    }
   ],
   "source": [
    "def rotations(str1, str2):\n",
    "    if len(str1) != len(str2):\n",
    "        return False\n",
    "\n",
    "    temp = str1 + str1\n",
    "    \n",
    "    if str2 in temp:\n",
    "        return True\n",
    "    else:\n",
    "        return False\n",
    "    \n",
    "str1 = \"prince\"\n",
    "str2 = \"ncepri\"\n",
    "rotations(str1, str2)"
   ]
  },
  {
   "cell_type": "code",
   "execution_count": null,
   "id": "09794a7c",
   "metadata": {},
   "outputs": [],
   "source": []
  },
  {
   "cell_type": "markdown",
   "id": "0c603d3f",
   "metadata": {},
   "source": [
    "Q4. Write a program to print the first non-repeatrrd character from a string?"
   ]
  },
  {
   "cell_type": "code",
   "execution_count": 5,
   "id": "fa360b11",
   "metadata": {},
   "outputs": [
    {
     "name": "stdout",
     "output_type": "stream",
     "text": [
      "First Non Repeating Character is:  t\n"
     ]
    }
   ],
   "source": [
    "def firstNonRepeat(x):\n",
    "    for i in x:\n",
    "        if (x.find(i, (x.find(i) + 1))) == -1:\n",
    "            print(\"First Non Repeating Character is: \", i)\n",
    "            break\n",
    "    return\n",
    "\n",
    "x = \"nitin\"\n",
    "firstNonRepeat(x)"
   ]
  },
  {
   "cell_type": "code",
   "execution_count": null,
   "id": "e4613f69",
   "metadata": {},
   "outputs": [],
   "source": []
  },
  {
   "cell_type": "markdown",
   "id": "00b15887",
   "metadata": {},
   "source": [
    "Q5. Read about the Tower of hanoi algorithm. Write a program to implement it."
   ]
  },
  {
   "cell_type": "code",
   "execution_count": 6,
   "id": "1a2717d9",
   "metadata": {},
   "outputs": [
    {
     "name": "stdout",
     "output_type": "stream",
     "text": [
      "Move disk 1 from peg A to peg B\n",
      "Move disk 2 from peg A to peg C\n",
      "Move disk 1 from peg B to peg C\n",
      "Move disk 3 from peg A to peg B\n",
      "Move disk 1 from peg C to peg A\n",
      "Move disk 2 from peg C to peg B\n",
      "Move disk 1 from peg A to peg B\n"
     ]
    }
   ],
   "source": [
    "def tower_of_hanoi(n, source, destination, helper):\n",
    "    if n==1:\n",
    "        print(\"Move disk 1 from peg\", source, \"to peg\", destination)\n",
    "        return\n",
    "    \n",
    "    tower_of_hanoi(n-1, source, helper, destination)\n",
    "    print(\"Move disk\", n, \"from peg\", source, \"to peg\", destination)\n",
    "    tower_of_hanoi(n-1, helper, destination, source)\n",
    "    \n",
    "n = 3\n",
    "tower_of_hanoi(n, 'A', 'B', 'C')"
   ]
  },
  {
   "cell_type": "code",
   "execution_count": null,
   "id": "45eae25e",
   "metadata": {},
   "outputs": [],
   "source": []
  },
  {
   "cell_type": "code",
   "execution_count": null,
   "id": "de5c2cde",
   "metadata": {},
   "outputs": [],
   "source": []
  }
 ],
 "metadata": {
  "kernelspec": {
   "display_name": "Python 3 (ipykernel)",
   "language": "python",
   "name": "python3"
  },
  "language_info": {
   "codemirror_mode": {
    "name": "ipython",
    "version": 3
   },
   "file_extension": ".py",
   "mimetype": "text/x-python",
   "name": "python",
   "nbconvert_exporter": "python",
   "pygments_lexer": "ipython3",
   "version": "3.9.13"
  }
 },
 "nbformat": 4,
 "nbformat_minor": 5
}
