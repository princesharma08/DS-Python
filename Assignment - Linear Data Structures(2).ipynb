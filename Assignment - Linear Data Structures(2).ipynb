{
 "cells": [
  {
   "cell_type": "markdown",
   "id": "da707570",
   "metadata": {},
   "source": [
    "Q6. Read about infix, prefix, and postfix espressions.Writr a program to convert postfix to prefix expression."
   ]
  },
  {
   "cell_type": "code",
   "execution_count": 1,
   "id": "d586076a",
   "metadata": {},
   "outputs": [
    {
     "name": "stdout",
     "output_type": "stream",
     "text": [
      "Prefix:  +AB-CD\n"
     ]
    }
   ],
   "source": [
    "def isOperator(x):\n",
    "    if x == \"+\":\n",
    "        return True\n",
    "    if x == \"-\":\n",
    "        return True\n",
    "    if x == \"/\":\n",
    "        return True\n",
    "    if x == \"*\":\n",
    "        return True\n",
    "    return False\n",
    "\n",
    "def postToPre(post_exp):\n",
    "    a = []\n",
    "    length = len(post_exp)\n",
    "    \n",
    "    for i in range(length):\n",
    "        if (isOperator(post_exp[i])):\n",
    "            op1 = a[-1]\n",
    "            a.pop()\n",
    "            op2 = a[-1]\n",
    "            a.pop()\n",
    "            \n",
    "            temp = post_exp[i] + op2 + op1\n",
    "            a.append(temp)\n",
    "            \n",
    "        else:\n",
    "            a.append(post_exp[i])\n",
    "            \n",
    "    ans = \"\"\n",
    "    for i in a:\n",
    "        ans += i\n",
    "    return ans\n",
    "\n",
    "if __name__ == \"__main__\":\n",
    "    post_exp = \"AB+CD-\"\n",
    "    \n",
    "    print(\"Prefix: \", postToPre(post_exp))"
   ]
  },
  {
   "cell_type": "code",
   "execution_count": null,
   "id": "168c2250",
   "metadata": {},
   "outputs": [],
   "source": []
  },
  {
   "cell_type": "markdown",
   "id": "0ae38a5e",
   "metadata": {},
   "source": [
    "Q7. Write a program to convert prefix to infix expression."
   ]
  },
  {
   "cell_type": "code",
   "execution_count": 6,
   "id": "a181d815",
   "metadata": {},
   "outputs": [
    {
     "name": "stdout",
     "output_type": "stream",
     "text": [
      "((A+B)*(C-D))\n"
     ]
    }
   ],
   "source": [
    "def prefixToInfix(prefix):\n",
    "    stack= []\n",
    "    \n",
    "    i = len(prefix) - 1\n",
    "    while i >= 0:\n",
    "        if not isOperator(prefix[i]):\n",
    "            stack.append(prefix[i])\n",
    "            i -= 1\n",
    "        else:\n",
    "            str = \"(\" + stack.pop() + prefix[i] + stack.pop() + \")\"\n",
    "            stack.append(str)\n",
    "            i -= 1\n",
    "            \n",
    "    return stack.pop()\n",
    "    \n",
    "def isOperator(c):\n",
    "    if c == \"*\" or c == \"+\" or c == \"-\" or c == \"/\" or c == \"^\" or c == \"(\" or c == \")\":\n",
    "        return True\n",
    "    else:\n",
    "        return False\n",
    "\n",
    "if __name__ == \"__main__\":\n",
    "    str = \"*+AB-CD\"\n",
    "    print(prefixToInfix(str))"
   ]
  },
  {
   "cell_type": "code",
   "execution_count": null,
   "id": "827b4d15",
   "metadata": {},
   "outputs": [],
   "source": []
  },
  {
   "cell_type": "markdown",
   "id": "8a7c4952",
   "metadata": {},
   "source": [
    "Q8. Write a program to check if all the brackets are closed in a given code snippet."
   ]
  },
  {
   "cell_type": "code",
   "execution_count": 3,
   "id": "27132c70",
   "metadata": {},
   "outputs": [
    {
     "name": "stdout",
     "output_type": "stream",
     "text": [
      "Balanced\n"
     ]
    }
   ],
   "source": [
    "def bracketBalance(expr):\n",
    "    stack = []\n",
    "    \n",
    "    for char in expr:\n",
    "        if char in [\"(\", \"{\", \"[\"]:\n",
    "            stack.append(char)\n",
    "            \n",
    "        else:\n",
    "            if not stack:\n",
    "                return False\n",
    "            current_char = stack.pop()\n",
    "            if current_char == '(':\n",
    "                if char != \")\":\n",
    "                    return False\n",
    "                if current_char == '{':\n",
    "                    if char != \"}\":\n",
    "                        return False\n",
    "                if current_char == '[':\n",
    "                    if char != \"]\":\n",
    "                        return False\n",
    "                    \n",
    "    if stack:\n",
    "        return False\n",
    "    return True\n",
    "\n",
    "if __name__ == \"__main__\":\n",
    "    expr = \"{()}[]\"\n",
    "    \n",
    "    if bracketBalance(expr):\n",
    "        print(\"Balanced\")\n",
    "    else:\n",
    "        print(\"Not Balanced\")"
   ]
  },
  {
   "cell_type": "code",
   "execution_count": null,
   "id": "266961f7",
   "metadata": {},
   "outputs": [],
   "source": []
  },
  {
   "cell_type": "markdown",
   "id": "bbbcded7",
   "metadata": {},
   "source": [
    "Q9. Write a program to reverse a stack."
   ]
  },
  {
   "cell_type": "code",
   "execution_count": 4,
   "id": "329ab29c",
   "metadata": {},
   "outputs": [
    {
     "name": "stdout",
     "output_type": "stream",
     "text": [
      "Original Stack: \n",
      "5\n",
      "4\n",
      "3\n",
      "2\n",
      "1\n",
      "Reversing Stack: \n",
      "1\n",
      "2\n",
      "3\n",
      "4\n",
      "5\n"
     ]
    }
   ],
   "source": [
    "class Stack:\n",
    "    def __init__(self):\n",
    "        self.elements = []\n",
    "        \n",
    "    def empty(self):\n",
    "        return self.elements == []\n",
    "    \n",
    "    def push(self, data):\n",
    "        self.elements.append(data)\n",
    "        \n",
    "    def pop(self):\n",
    "        return self.elements.pop()\n",
    "    \n",
    "    def show(self):\n",
    "        for data in reversed(self.elements):\n",
    "            print(data)\n",
    "            \n",
    "def bottomInsert(s, data):\n",
    "    if s.empty():\n",
    "        s.push(data)\n",
    "    else:\n",
    "        popped = s.pop()\n",
    "        bottomInsert(s, data)\n",
    "        s.push(popped)\n",
    "            \n",
    "def reverse(s):\n",
    "    if s.empty():\n",
    "        pass\n",
    "    else:\n",
    "        popped = s.pop()\n",
    "        reverse(s)\n",
    "        bottomInsert(s, popped)\n",
    "                \n",
    "a = Stack()\n",
    "a.push(1)\n",
    "a.push(2)\n",
    "a.push(3)\n",
    "a.push(4)\n",
    "a.push(5)\n",
    "\n",
    "print(\"Original Stack: \")\n",
    "a.show()\n",
    "print(\"Reversing Stack: \",)\n",
    "reverse(a)\n",
    "a.show()"
   ]
  },
  {
   "cell_type": "code",
   "execution_count": null,
   "id": "f1a26f04",
   "metadata": {},
   "outputs": [],
   "source": []
  },
  {
   "cell_type": "markdown",
   "id": "a90f26b8",
   "metadata": {},
   "source": [
    "Q10. Write a program to find the smallest number using a stack."
   ]
  },
  {
   "cell_type": "code",
   "execution_count": 5,
   "id": "1a47cb3b",
   "metadata": {},
   "outputs": [
    {
     "name": "stdout",
     "output_type": "stream",
     "text": [
      "-3\n",
      "0\n",
      "-2\n"
     ]
    }
   ],
   "source": [
    "class minStack(object):\n",
    "    min = float('inf')\n",
    "    \n",
    "    def __init__(self):\n",
    "        self.min = float('inf')\n",
    "        self.stack = []\n",
    "        \n",
    "    def push(self, x):\n",
    "        if x <= self.min:\n",
    "            self.stack.append(self.min)\n",
    "            self.min = x\n",
    "        self.stack.append(x)\n",
    "        \n",
    "    def pop(self):\n",
    "        t = self.stack[-1]\n",
    "        self.stack.pop()\n",
    "        if self.min ==t:\n",
    "            self.min =self.stack[-1]\n",
    "            self.stack.pop()\n",
    "            \n",
    "    def top(self):\n",
    "        return self.stack[-1]\n",
    "    \n",
    "    def getMin(self):\n",
    "        return self.min\n",
    "    \n",
    "m = minStack()\n",
    "m.push(-2)\n",
    "m.push(0)\n",
    "m.push(-3)\n",
    "print(m.getMin())\n",
    "\n",
    "m.pop()\n",
    "print(m.top())\n",
    "print(m.getMin())"
   ]
  },
  {
   "cell_type": "code",
   "execution_count": null,
   "id": "22840145",
   "metadata": {},
   "outputs": [],
   "source": []
  }
 ],
 "metadata": {
  "kernelspec": {
   "display_name": "Python 3 (ipykernel)",
   "language": "python",
   "name": "python3"
  },
  "language_info": {
   "codemirror_mode": {
    "name": "ipython",
    "version": 3
   },
   "file_extension": ".py",
   "mimetype": "text/x-python",
   "name": "python",
   "nbconvert_exporter": "python",
   "pygments_lexer": "ipython3",
   "version": "3.9.13"
  }
 },
 "nbformat": 4,
 "nbformat_minor": 5
}
